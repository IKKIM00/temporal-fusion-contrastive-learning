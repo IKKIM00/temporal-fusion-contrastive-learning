{
 "cells": [
  {
   "cell_type": "code",
   "execution_count": 7,
   "metadata": {
    "ExecuteTime": {
     "end_time": "2022-05-15T09:57:15.741689Z",
     "start_time": "2022-05-15T09:57:15.738121Z"
    }
   },
   "outputs": [],
   "source": [
    "import pandas as pd\n",
    "import os\n",
    "from scipy import io\n",
    "\n",
    "import warnings\n",
    "warnings.filterwarnings(action=\"ignore\")"
   ]
  },
  {
   "cell_type": "code",
   "execution_count": 8,
   "metadata": {
    "ExecuteTime": {
     "end_time": "2022-05-15T09:57:15.977877Z",
     "start_time": "2022-05-15T09:57:15.973433Z"
    }
   },
   "outputs": [
    {
     "data": {
      "text/plain": [
       "['ARS_DLR_Benchmark_Data_Set_Readme.txt',\n",
       " 'ARS_DLR_DataSet_V2.mat',\n",
       " 'ARS_DLR_Benchmark_Data_Set.mat',\n",
       " 'QuantizationFiles.zip',\n",
       " 'ARS_DLR_DataSet.mat',\n",
       " 'ARS_DLR_Data_Set_Readme.txt',\n",
       " 'ARS_DLR_Data_Set_V2_Readme.txt',\n",
       " 'Subjects_Age_Height_Gender.xls']"
      ]
     },
     "execution_count": 8,
     "metadata": {},
     "output_type": "execute_result"
    }
   ],
   "source": [
    "dataset_dir = 'ARS DLR Data Set/'\n",
    "os.listdir(dataset_dir)"
   ]
  },
  {
   "cell_type": "code",
   "execution_count": 9,
   "metadata": {
    "ExecuteTime": {
     "end_time": "2022-05-15T09:57:16.215754Z",
     "start_time": "2022-05-15T09:57:16.200667Z"
    }
   },
   "outputs": [
    {
     "data": {
      "text/html": [
       "<div>\n",
       "<style scoped>\n",
       "    .dataframe tbody tr th:only-of-type {\n",
       "        vertical-align: middle;\n",
       "    }\n",
       "\n",
       "    .dataframe tbody tr th {\n",
       "        vertical-align: top;\n",
       "    }\n",
       "\n",
       "    .dataframe thead th {\n",
       "        text-align: right;\n",
       "    }\n",
       "</style>\n",
       "<table border=\"1\" class=\"dataframe\">\n",
       "  <thead>\n",
       "    <tr style=\"text-align: right;\">\n",
       "      <th></th>\n",
       "      <th>Name</th>\n",
       "      <th>Age</th>\n",
       "      <th>Height</th>\n",
       "      <th>Gender</th>\n",
       "      <th>Unnamed: 4</th>\n",
       "      <th>Unnamed: 5</th>\n",
       "    </tr>\n",
       "  </thead>\n",
       "  <tbody>\n",
       "    <tr>\n",
       "      <th>0</th>\n",
       "      <td>Marina</td>\n",
       "      <td>24</td>\n",
       "      <td>1.66</td>\n",
       "      <td>Female</td>\n",
       "      <td>NaN</td>\n",
       "      <td>NaN</td>\n",
       "    </tr>\n",
       "    <tr>\n",
       "      <th>1</th>\n",
       "      <td>Maria</td>\n",
       "      <td>25</td>\n",
       "      <td>1.61</td>\n",
       "      <td>Female</td>\n",
       "      <td>NaN</td>\n",
       "      <td>NaN</td>\n",
       "    </tr>\n",
       "    <tr>\n",
       "      <th>2</th>\n",
       "      <td>Elena</td>\n",
       "      <td>23</td>\n",
       "      <td>1.7</td>\n",
       "      <td>Female</td>\n",
       "      <td>NaN</td>\n",
       "      <td>NaN</td>\n",
       "    </tr>\n",
       "    <tr>\n",
       "      <th>3</th>\n",
       "      <td>Cristina</td>\n",
       "      <td>27</td>\n",
       "      <td>1.6</td>\n",
       "      <td>Female</td>\n",
       "      <td>NaN</td>\n",
       "      <td>NaN</td>\n",
       "    </tr>\n",
       "    <tr>\n",
       "      <th>4</th>\n",
       "      <td>Susanna</td>\n",
       "      <td>41</td>\n",
       "      <td>1.61</td>\n",
       "      <td>Female</td>\n",
       "      <td>NaN</td>\n",
       "      <td>NaN</td>\n",
       "    </tr>\n",
       "  </tbody>\n",
       "</table>\n",
       "</div>"
      ],
      "text/plain": [
       "       Name Age Height  Gender  Unnamed: 4 Unnamed: 5\n",
       "0    Marina  24   1.66  Female         NaN        NaN\n",
       "1     Maria  25   1.61  Female         NaN        NaN\n",
       "2     Elena  23    1.7  Female         NaN        NaN\n",
       "3  Cristina  27    1.6  Female         NaN        NaN\n",
       "4   Susanna  41   1.61  Female         NaN        NaN"
      ]
     },
     "execution_count": 9,
     "metadata": {},
     "output_type": "execute_result"
    }
   ],
   "source": [
    "per_info = pd.read_excel(dataset_dir + 'Subjects_Age_Height_Gender.xls')\n",
    "per_info.head()"
   ]
  },
  {
   "cell_type": "code",
   "execution_count": 10,
   "metadata": {
    "ExecuteTime": {
     "end_time": "2022-05-15T09:57:16.490984Z",
     "start_time": "2022-05-15T09:57:16.485509Z"
    }
   },
   "outputs": [],
   "source": [
    "columns = ['time', 'acc_x', 'acc_y', 'acc_z', 'gyro_x', 'gyro_y', 'gyro_z', 'mag_x', 'mag_y', 'mag_z']\n",
    "dataset_list = ['ARS_DLR_Benchmark_Data_Set.mat', 'ARS_DLR_DataSet.mat', 'ARS_DLR_DataSet_V2.mat']\n",
    "data_len = []\n",
    "\n",
    "save_dir = 'dlr_preprocessed/'\n",
    "train_dir, valid_dir, test_dir = 'train/', 'valid/', 'test/'\n",
    "for dir_name in [train_dir, valid_dir, test_dir]:\n",
    "    if not os.path.exists(save_dir + dir_name):\n",
    "        os.makedirs(save_dir + dir_name, exist_ok=True)"
   ]
  },
  {
   "cell_type": "code",
   "execution_count": 11,
   "metadata": {
    "ExecuteTime": {
     "end_time": "2022-05-15T09:57:16.721404Z",
     "start_time": "2022-05-15T09:57:16.716405Z"
    }
   },
   "outputs": [],
   "source": [
    "def save_act(name, act_data, index=0):\n",
    "    if name in ['Maria', 'Matthias', 'Susanna', 'Marina', 'Hanno', 'Emil', 'Korbinian', 'Jesus', 'Fabian']:\n",
    "        act_data.to_csv(f\"{save_dir + train_dir + key}_{label[i].item()}_{index}.csv\")\n",
    "    elif name in ['Cristina', 'Mohammed', 'Paula']:\n",
    "        act_data.to_csv(f\"{save_dir + valid_dir + key}_{label[i].item()}_{index}.csv\")\n",
    "    else:\n",
    "        act_data.to_csv(f\"{save_dir + test_dir + key}_{label[i].item()}_{index}.csv\")"
   ]
  },
  {
   "cell_type": "code",
   "execution_count": 12,
   "metadata": {
    "ExecuteTime": {
     "end_time": "2022-05-15T09:57:57.287091Z",
     "start_time": "2022-05-15T09:57:17.303649Z"
    }
   },
   "outputs": [],
   "source": [
    "for dataset in dataset_list:\n",
    "    matfile = io.loadmat(dataset_dir + dataset)\n",
    "    for key, val in matfile.items():\n",
    "        if key.startswith('ARS'):\n",
    "            name = key.split('_')[1]\n",
    "            if name == \"Michael\":\n",
    "                continue\n",
    "            \n",
    "            label = val[0][2][0]\n",
    "            label_idx = val[0][3][0]\n",
    "    \n",
    "            age = per_info[per_info['Name'] == name]['Age'].values[0]\n",
    "            gender = per_info[per_info['Name'] == name]['Gender'].values[0]\n",
    "            height = per_info[per_info['Name'] == name]['Height'].values[0]\n",
    "            \n",
    "            sensor_data = pd.DataFrame(val[0][0], columns=columns)\n",
    "            sensor_data['age'] = age\n",
    "            sensor_data['gender'] = gender\n",
    "            sensor_data['height'] = height\n",
    "            \n",
    "            for i in range(len(label)):\n",
    "                start = label_idx[i * 2] - 1\n",
    "                end = label_idx[(i * 2) + 1] - 1\n",
    "                if label[i].item() in ['JUMPBCK', 'JUMPFWD', 'JUMPVRT', 'WALKUPS', 'WALKDWS', 'TRANSUP', 'JUMPING']:\n",
    "                    continue\n",
    "                if end - start > 2000:\n",
    "                    div = (end - start) // 2000\n",
    "                    for j in range(div + 1):\n",
    "                        if start + ((j + 1) * 2000) > end:\n",
    "                            act_data = sensor_data.loc[start + (j * 2000): end]\n",
    "                        else:\n",
    "                            act_data = sensor_data.loc[start + (j * 2000): start + ((j + 1) * 2000)]\n",
    "                        act_data['label'] = label[i].item()\n",
    "                        if len(act_data) > 500:\n",
    "                            if act_data.isna().any().any():\n",
    "                                print(act_data)\n",
    "                            save_act(name, act_data, j)\n",
    "                    \n",
    "                elif end - start > 500:\n",
    "                    act_data = sensor_data.loc[start: end]\n",
    "                    act_data['label'] = label[i].item()\n",
    "                    if act_data.isna().any().any():\n",
    "                        print(act_data)\n",
    "                    save_act(name, act_data, index=0)"
   ]
  },
  {
   "cell_type": "code",
   "execution_count": null,
   "metadata": {},
   "outputs": [],
   "source": []
  }
 ],
 "metadata": {
  "kernelspec": {
   "display_name": "tfrl",
   "language": "python",
   "name": "tfrl"
  },
  "language_info": {
   "codemirror_mode": {
    "name": "ipython",
    "version": 3
   },
   "file_extension": ".py",
   "mimetype": "text/x-python",
   "name": "python",
   "nbconvert_exporter": "python",
   "pygments_lexer": "ipython3",
   "version": "3.9.10"
  },
  "toc": {
   "base_numbering": 1,
   "nav_menu": {},
   "number_sections": false,
   "sideBar": true,
   "skip_h1_title": false,
   "title_cell": "Table of Contents",
   "title_sidebar": "Contents",
   "toc_cell": false,
   "toc_position": {},
   "toc_section_display": true,
   "toc_window_display": false
  },
  "varInspector": {
   "cols": {
    "lenName": 16,
    "lenType": 16,
    "lenVar": 40
   },
   "kernels_config": {
    "python": {
     "delete_cmd_postfix": "",
     "delete_cmd_prefix": "del ",
     "library": "var_list.py",
     "varRefreshCmd": "print(var_dic_list())"
    },
    "r": {
     "delete_cmd_postfix": ") ",
     "delete_cmd_prefix": "rm(",
     "library": "var_list.r",
     "varRefreshCmd": "cat(var_dic_list()) "
    }
   },
   "types_to_exclude": [
    "module",
    "function",
    "builtin_function_or_method",
    "instance",
    "_Feature"
   ],
   "window_display": false
  }
 },
 "nbformat": 4,
 "nbformat_minor": 4
}
