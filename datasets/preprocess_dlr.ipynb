{
 "cells": [
  {
   "cell_type": "code",
   "execution_count": 2,
   "metadata": {},
   "outputs": [],
   "source": [
    "import pandas as pd\n",
    "import os\n",
    "from scipy import io"
   ]
  },
  {
   "cell_type": "code",
   "execution_count": 3,
   "metadata": {},
   "outputs": [
    {
     "data": {
      "text/plain": [
       "['ARS_DLR_Data_Set_Readme.txt',\n",
       " 'Subjects_Age_Height_Gender.xls',\n",
       " 'ARS_DLR_DataSet.mat',\n",
       " 'ARS_DLR_Data_Set_V2_Readme.txt',\n",
       " 'ARS_DLR_Benchmark_Data_Set.mat',\n",
       " 'ARS_DLR_DataSet_V2.mat',\n",
       " 'ARS_DLR_Benchmark_Data_Set_Readme.txt',\n",
       " 'QuantizationFiles.zip']"
      ]
     },
     "execution_count": 3,
     "metadata": {},
     "output_type": "execute_result"
    }
   ],
   "source": [
    "dataset_dir = 'ARS DLR Data Set/'\n",
    "os.listdir(dataset_dir)"
   ]
  },
  {
   "cell_type": "code",
   "execution_count": 4,
   "metadata": {},
   "outputs": [
    {
     "data": {
      "text/html": [
       "<div>\n",
       "<style scoped>\n",
       "    .dataframe tbody tr th:only-of-type {\n",
       "        vertical-align: middle;\n",
       "    }\n",
       "\n",
       "    .dataframe tbody tr th {\n",
       "        vertical-align: top;\n",
       "    }\n",
       "\n",
       "    .dataframe thead th {\n",
       "        text-align: right;\n",
       "    }\n",
       "</style>\n",
       "<table border=\"1\" class=\"dataframe\">\n",
       "  <thead>\n",
       "    <tr style=\"text-align: right;\">\n",
       "      <th></th>\n",
       "      <th>Name</th>\n",
       "      <th>Age</th>\n",
       "      <th>Height</th>\n",
       "      <th>Gender</th>\n",
       "      <th>Unnamed: 4</th>\n",
       "      <th>Unnamed: 5</th>\n",
       "    </tr>\n",
       "  </thead>\n",
       "  <tbody>\n",
       "    <tr>\n",
       "      <th>0</th>\n",
       "      <td>Marina</td>\n",
       "      <td>24</td>\n",
       "      <td>1.66</td>\n",
       "      <td>Female</td>\n",
       "      <td>NaN</td>\n",
       "      <td>NaN</td>\n",
       "    </tr>\n",
       "    <tr>\n",
       "      <th>1</th>\n",
       "      <td>Maria</td>\n",
       "      <td>25</td>\n",
       "      <td>1.61</td>\n",
       "      <td>Female</td>\n",
       "      <td>NaN</td>\n",
       "      <td>NaN</td>\n",
       "    </tr>\n",
       "    <tr>\n",
       "      <th>2</th>\n",
       "      <td>Elena</td>\n",
       "      <td>23</td>\n",
       "      <td>1.7</td>\n",
       "      <td>Female</td>\n",
       "      <td>NaN</td>\n",
       "      <td>NaN</td>\n",
       "    </tr>\n",
       "    <tr>\n",
       "      <th>3</th>\n",
       "      <td>Cristina</td>\n",
       "      <td>27</td>\n",
       "      <td>1.6</td>\n",
       "      <td>Female</td>\n",
       "      <td>NaN</td>\n",
       "      <td>NaN</td>\n",
       "    </tr>\n",
       "    <tr>\n",
       "      <th>4</th>\n",
       "      <td>Susanna</td>\n",
       "      <td>41</td>\n",
       "      <td>1.61</td>\n",
       "      <td>Female</td>\n",
       "      <td>NaN</td>\n",
       "      <td>NaN</td>\n",
       "    </tr>\n",
       "  </tbody>\n",
       "</table>\n",
       "</div>"
      ],
      "text/plain": [
       "       Name Age Height  Gender  Unnamed: 4 Unnamed: 5\n",
       "0    Marina  24   1.66  Female         NaN        NaN\n",
       "1     Maria  25   1.61  Female         NaN        NaN\n",
       "2     Elena  23    1.7  Female         NaN        NaN\n",
       "3  Cristina  27    1.6  Female         NaN        NaN\n",
       "4   Susanna  41   1.61  Female         NaN        NaN"
      ]
     },
     "execution_count": 4,
     "metadata": {},
     "output_type": "execute_result"
    }
   ],
   "source": [
    "per_info = pd.read_excel(dataset_dir + 'Subjects_Age_Height_Gender.xls')\n",
    "per_info.head()"
   ]
  },
  {
   "cell_type": "code",
   "execution_count": 17,
   "metadata": {},
   "outputs": [
    {
     "name": "stdout",
     "output_type": "stream",
     "text": [
      "6\n"
     ]
    },
    {
     "name": "stderr",
     "output_type": "stream",
     "text": [
      "/Users/inkyungkim/opt/anaconda3/lib/python3.7/site-packages/ipykernel_launcher.py:54: SettingWithCopyWarning: \n",
      "A value is trying to be set on a copy of a slice from a DataFrame.\n",
      "Try using .loc[row_indexer,col_indexer] = value instead\n",
      "\n",
      "See the caveats in the documentation: https://pandas.pydata.org/pandas-docs/stable/user_guide/indexing.html#returning-a-view-versus-a-copy\n",
      "/Users/inkyungkim/opt/anaconda3/lib/python3.7/site-packages/ipykernel_launcher.py:48: SettingWithCopyWarning: \n",
      "A value is trying to be set on a copy of a slice from a DataFrame.\n",
      "Try using .loc[row_indexer,col_indexer] = value instead\n",
      "\n",
      "See the caveats in the documentation: https://pandas.pydata.org/pandas-docs/stable/user_guide/indexing.html#returning-a-view-versus-a-copy\n"
     ]
    },
    {
     "name": "stdout",
     "output_type": "stream",
     "text": [
      "59\n",
      "37\n"
     ]
    }
   ],
   "source": [
    "columns = ['time', 'acc_x', 'acc_y', 'acc_z', 'gyro_x', 'gyro_y', 'gyro_z', 'mag_x', 'mag_y', 'mag_z']\n",
    "dataset_list = ['ARS_DLR_Benchmark_Data_Set.mat', 'ARS_DLR_DataSet.mat', 'ARS_DLR_DataSet_V2.mat']\n",
    "data_len = []\n",
    "\n",
    "save_dir = 'dlr_preprocessed/'\n",
    "train_dir, valid_dir, test_dir = 'train/', 'valid/', 'test/'\n",
    "for dir_name in [train_dir, valid_dir, test_dir]:\n",
    "    if not os.path.exists(save_dir + dir_name):\n",
    "        os.makedirs(save_dir + dir_name, exist_ok=True)\n",
    "        \n",
    "def save_act(name, act_data, index=0):\n",
    "    if name in ['Maria', 'Matthias', 'Susanna', 'Marina', 'Hanno', 'Emil', 'Korbinian', 'Jesus', 'Fabian', 'Michael']:\n",
    "        act_data.to_csv(f\"{save_dir + train_dir + key}_{label[i].item()}_{index}.csv\")\n",
    "    elif name in ['Cristina', 'Mohammed', 'Paula']:\n",
    "        act_data.to_csv(f\"{save_dir + valid_dir + key}_{label[i].item()}_{index}.csv\")\n",
    "    else:\n",
    "        act_data.to_csv(f\"{save_dir + test_dir + key}_{label[i].item()}_{index}.csv\")\n",
    "\n",
    "for dataset in dataset_list:\n",
    "    matfile = io.loadmat(dataset_dir + dataset)\n",
    "    print(len(matfile))\n",
    "    for key, val in matfile.items():\n",
    "        if key.startswith('ARS'):\n",
    "            name = key.split('_')[1]\n",
    "            \n",
    "            label = val[0][2][0]\n",
    "            label_idx = val[0][3][0]\n",
    "    \n",
    "            age = per_info[per_info['Name'] == name]['Age'].values[0]\n",
    "            gender = per_info[per_info['Name'] == name]['Gender'].values[0]\n",
    "            height = per_info[per_info['Name'] == name]['Height'].values[0]\n",
    "            \n",
    "            sensor_data = pd.DataFrame(val[0][0], columns=columns)\n",
    "            sensor_data['age'] = age\n",
    "            sensor_data['gender'] = gender\n",
    "            sensor_data['height'] = height\n",
    "            \n",
    "            for i in range(len(label)):\n",
    "                start = label_idx[i * 2] - 1\n",
    "                end = label_idx[(i * 2) + 1] - 1\n",
    "                if end - start > 3500:\n",
    "                    div = (end - start) // 3500\n",
    "                    for j in range(div + 1):\n",
    "                        if start + ((j + 1) * 3500) > end:\n",
    "                            act_data = sensor_data.loc[start + (j * 3500): end]\n",
    "                        else:\n",
    "                            act_data = sensor_data.loc[start + (j * 3500): start + ((j + 1) * 3500)]\n",
    "                        act_data['label'] = label[i].item()\n",
    "                        if len(act_data) > 500:\n",
    "                            save_act(name, act_data, j)\n",
    "                    \n",
    "                elif end - start > 500:\n",
    "                    act_data = sensor_data.loc[start: end]\n",
    "                    act_data['label'] = label[i].item()\n",
    "                    save_act(name, act_data, index=0)"
   ]
  },
  {
   "cell_type": "code",
   "execution_count": 15,
   "metadata": {},
   "outputs": [],
   "source": [
    "import numpy as np\n",
    "\n",
    "file_len = []\n",
    "for dir_name in [train_dir, valid_dir, test_dir]:\n",
    "    file_list = os.listdir(save_dir + dir_name)\n",
    "    for file in file_list:\n",
    "        temp = pd.read_csv(save_dir + dir_name + file)\n",
    "        file_len.append(len(temp))"
   ]
  },
  {
   "cell_type": "code",
   "execution_count": 16,
   "metadata": {},
   "outputs": [
    {
     "data": {
      "text/plain": [
       "1001"
      ]
     },
     "execution_count": 16,
     "metadata": {},
     "output_type": "execute_result"
    }
   ],
   "source": [
    "max(file_len)"
   ]
  },
  {
   "cell_type": "code",
   "execution_count": null,
   "metadata": {},
   "outputs": [],
   "source": []
  }
 ],
 "metadata": {
  "kernelspec": {
   "display_name": "Python 3",
   "language": "python",
   "name": "python3"
  },
  "language_info": {
   "codemirror_mode": {
    "name": "ipython",
    "version": 3
   },
   "file_extension": ".py",
   "mimetype": "text/x-python",
   "name": "python",
   "nbconvert_exporter": "python",
   "pygments_lexer": "ipython3",
   "version": "3.7.6"
  }
 },
 "nbformat": 4,
 "nbformat_minor": 4
}
