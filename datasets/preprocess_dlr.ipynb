{
 "cells": [
  {
   "cell_type": "code",
   "execution_count": null,
   "metadata": {
    "ExecuteTime": {
     "end_time": "2022-05-05T12:59:19.094267Z",
     "start_time": "2022-05-05T12:59:19.089669Z"
    }
   },
   "outputs": [],
   "source": [
    "import pandas as pd\n",
    "import os\n",
    "from scipy import io\n",
    "\n",
    "import warnings\n",
    "warnings.filterwarnings(action=\"ignore\")"
   ]
  },
  {
   "cell_type": "code",
   "execution_count": null,
   "metadata": {
    "ExecuteTime": {
     "end_time": "2022-05-05T12:59:19.421086Z",
     "start_time": "2022-05-05T12:59:19.415000Z"
    }
   },
   "outputs": [],
   "source": [
    "dataset_dir = 'ARS DLR Data Set/'\n",
    "os.listdir(dataset_dir)"
   ]
  },
  {
   "cell_type": "code",
   "execution_count": null,
   "metadata": {
    "ExecuteTime": {
     "end_time": "2022-05-05T12:59:25.024274Z",
     "start_time": "2022-05-05T12:59:25.000694Z"
    }
   },
   "outputs": [],
   "source": [
    "per_info = pd.read_excel(dataset_dir + 'Subjects_Age_Height_Gender.xls')\n",
    "per_info.head()"
   ]
  },
  {
   "cell_type": "code",
   "execution_count": null,
   "metadata": {
    "ExecuteTime": {
     "end_time": "2022-05-05T13:12:41.882011Z",
     "start_time": "2022-05-05T13:12:41.871801Z"
    }
   },
   "outputs": [],
   "source": [
    "columns = ['time', 'acc_x', 'acc_y', 'acc_z', 'gyro_x', 'gyro_y', 'gyro_z', 'mag_x', 'mag_y', 'mag_z']\n",
    "dataset_list = ['ARS_DLR_Benchmark_Data_Set.mat', 'ARS_DLR_DataSet.mat', 'ARS_DLR_DataSet_V2.mat']\n",
    "data_len = []\n",
    "\n",
    "save_dir = 'dlr_preprocessed/'\n",
    "train_dir, valid_dir, test_dir = 'train/', 'valid/', 'test/'\n",
    "for dir_name in [train_dir, valid_dir, test_dir]:\n",
    "    if not os.path.exists(save_dir + dir_name):\n",
    "        os.makedirs(save_dir + dir_name, exist_ok=True)"
   ]
  },
  {
   "cell_type": "code",
   "execution_count": null,
   "metadata": {
    "ExecuteTime": {
     "end_time": "2022-05-05T13:12:42.191634Z",
     "start_time": "2022-05-05T13:12:42.186622Z"
    }
   },
   "outputs": [],
   "source": [
    "def save_act(name, act_data, index=0):\n",
    "    if name in ['Maria', 'Matthias', 'Susanna', 'Marina', 'Hanno', 'Emil', 'Korbinian', 'Jesus', 'Fabian']:\n",
    "        act_data.to_csv(f\"{save_dir + train_dir + key}_{label[i].item()}_{index}.csv\")\n",
    "    elif name in ['Cristina', 'Mohammed', 'Paula']:\n",
    "        act_data.to_csv(f\"{save_dir + valid_dir + key}_{label[i].item()}_{index}.csv\")\n",
    "    else:\n",
    "        act_data.to_csv(f\"{save_dir + test_dir + key}_{label[i].item()}_{index}.csv\")"
   ]
  },
  {
   "cell_type": "code",
   "execution_count": null,
   "metadata": {
    "ExecuteTime": {
     "end_time": "2022-05-05T13:13:21.393477Z",
     "start_time": "2022-05-05T13:12:42.420694Z"
    }
   },
   "outputs": [],
   "source": [
    "for dataset in dataset_list:\n",
    "    matfile = io.loadmat(dataset_dir + dataset)\n",
    "    for key, val in matfile.items():\n",
    "        if key.startswith('ARS'):\n",
    "            name = key.split('_')[1]\n",
    "            if name == \"Michael\":\n",
    "                continue\n",
    "            \n",
    "            label = val[0][2][0]\n",
    "            label_idx = val[0][3][0]\n",
    "    \n",
    "            age = per_info[per_info['Name'] == name]['Age'].values[0]\n",
    "            gender = per_info[per_info['Name'] == name]['Gender'].values[0]\n",
    "            height = per_info[per_info['Name'] == name]['Height'].values[0]\n",
    "            \n",
    "            sensor_data = pd.DataFrame(val[0][0], columns=columns)\n",
    "            sensor_data['age'] = age\n",
    "            sensor_data['gender'] = gender\n",
    "            sensor_data['height'] = height\n",
    "            \n",
    "            for i in range(len(label)):\n",
    "                start = label_idx[i * 2] - 1\n",
    "                end = label_idx[(i * 2) + 1] - 1\n",
    "                if label[i].item() in ['JUMPBCK', 'JUMPFWD', 'JUMPVRT', 'WALKUPS', 'WALKDWS', 'TRANSUP', 'JUMPING']:\n",
    "                    continue\n",
    "                if end - start > 2000:\n",
    "                    div = (end - start) // 2000\n",
    "                    for j in range(div + 1):\n",
    "                        if start + ((j + 1) * 2000) > end:\n",
    "                            act_data = sensor_data.loc[start + (j * 2000): end]\n",
    "                        else:\n",
    "                            act_data = sensor_data.loc[start + (j * 2000): start + ((j + 1) * 2000)]\n",
    "                        act_data['label'] = label[i].item()\n",
    "                        if len(act_data) > 500:\n",
    "                            if act_data.isna().any().any():\n",
    "                                print(act_data)\n",
    "                            save_act(name, act_data, j)\n",
    "                    \n",
    "                elif end - start > 500:\n",
    "                    act_data = sensor_data.loc[start: end]\n",
    "                    act_data['label'] = label[i].item()\n",
    "                    if act_data.isna().any().any():\n",
    "                        print(act_data)\n",
    "                    save_act(name, act_data, index=0)"
   ]
  },
  {
   "cell_type": "code",
   "execution_count": null,
   "metadata": {
    "ExecuteTime": {
     "end_time": "2022-05-05T13:13:21.631934Z",
     "start_time": "2022-05-05T13:13:21.624111Z"
    },
    "scrolled": true
   },
   "outputs": [],
   "source": [
    "save_dir = 'dlr_preprocessed/'\n",
    "train_dir, valid_dir, test_dir = 'train/', 'valid/', 'test/'\n",
    "for dir_name in [train_dir, valid_dir, test_dir]:\n",
    "    labels = {}\n",
    "    file_list = os.listdir(save_dir + dir_name)\n",
    "    for f in file_list:\n",
    "        n = f.split('_')[-2]\n",
    "        if n in labels:\n",
    "            labels[n] += 1\n",
    "        else:\n",
    "            labels[n] = 1"
   ]
  },
  {
   "cell_type": "code",
   "execution_count": null,
   "metadata": {},
   "outputs": [],
   "source": []
  }
 ],
 "metadata": {
  "kernelspec": {
   "display_name": "tfrl",
   "language": "python",
   "name": "tfrl"
  },
  "language_info": {
   "codemirror_mode": {
    "name": "ipython",
    "version": 3
   },
   "file_extension": ".py",
   "mimetype": "text/x-python",
   "name": "python",
   "nbconvert_exporter": "python",
   "pygments_lexer": "ipython3",
   "version": "3.9.10"
  },
  "toc": {
   "base_numbering": 1,
   "nav_menu": {},
   "number_sections": false,
   "sideBar": true,
   "skip_h1_title": false,
   "title_cell": "Table of Contents",
   "title_sidebar": "Contents",
   "toc_cell": false,
   "toc_position": {},
   "toc_section_display": true,
   "toc_window_display": false
  },
  "varInspector": {
   "cols": {
    "lenName": 16,
    "lenType": 16,
    "lenVar": 40
   },
   "kernels_config": {
    "python": {
     "delete_cmd_postfix": "",
     "delete_cmd_prefix": "del ",
     "library": "var_list.py",
     "varRefreshCmd": "print(var_dic_list())"
    },
    "r": {
     "delete_cmd_postfix": ") ",
     "delete_cmd_prefix": "rm(",
     "library": "var_list.r",
     "varRefreshCmd": "cat(var_dic_list()) "
    }
   },
   "types_to_exclude": [
    "module",
    "function",
    "builtin_function_or_method",
    "instance",
    "_Feature"
   ],
   "window_display": false
  }
 },
 "nbformat": 4,
 "nbformat_minor": 4
}
