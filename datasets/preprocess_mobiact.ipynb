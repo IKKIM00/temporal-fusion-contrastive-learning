{
 "cells": [
  {
   "cell_type": "code",
   "execution_count": 1,
   "metadata": {
    "ExecuteTime": {
     "end_time": "2022-03-10T05:07:50.234085Z",
     "start_time": "2022-03-10T05:07:49.900245Z"
    }
   },
   "outputs": [],
   "source": [
    "import pandas as pd\n",
    "import numpy as np\n",
    "import os\n",
    "import torch\n",
    "import sklearn.preprocessing\n",
    "\n",
    "from torch.utils.data import TensorDataset\n",
    "from torch.nn.utils.rnn import pad_sequence\n",
    "from tqdm.notebook import tqdm"
   ]
  },
  {
   "cell_type": "code",
   "execution_count": 2,
   "metadata": {
    "ExecuteTime": {
     "end_time": "2022-03-10T10:43:38.435082Z",
     "start_time": "2022-03-10T10:43:38.428605Z"
    }
   },
   "outputs": [],
   "source": [
    "file = open('MobiAct_Dataset_v2.0/Readme.txt', 'r', encoding='latin1')\n",
    "strings = file.readlines()\n",
    "file.close()"
   ]
  },
  {
   "cell_type": "code",
   "execution_count": 3,
   "metadata": {
    "ExecuteTime": {
     "end_time": "2022-03-10T05:10:24.651578Z",
     "start_time": "2022-03-10T05:10:24.641792Z"
    }
   },
   "outputs": [],
   "source": [
    "person_list, activity_list = [], []\n",
    "for s in strings:\n",
    "    if '|' in s:\n",
    "        temp = s.split('|')\n",
    "        temp = [x.strip() for x in temp]\n",
    "        if 'sub' in s and len(temp) == 9:\n",
    "            person_list.append(temp[3:-1])\n",
    "        if len(temp) == 8:\n",
    "            activity_list.append(temp[1:-1])"
   ]
  },
  {
   "cell_type": "code",
   "execution_count": 4,
   "metadata": {
    "ExecuteTime": {
     "end_time": "2022-03-10T05:12:47.511133Z",
     "start_time": "2022-03-10T05:12:47.481706Z"
    }
   },
   "outputs": [],
   "source": [
    "falls = ['FOL', 'FKL', 'BSC', 'SDL']\n",
    "\n",
    "columns = ['name', 'age', 'height', 'weight', 'gender']\n",
    "person_info = pd.DataFrame(person_list, columns=columns)\n",
    "\n",
    "activity_info = pd.DataFrame(activity_list)\n",
    "activity_info.columns = activity_info.iloc[0]\n",
    "activity_info = activity_info.drop([0, 13])\n",
    "activity_info = activity_info.reset_index(drop=True)\n",
    "index = activity_info['No.']\n",
    "activity_info = activity_info.drop(['No.'], axis=1)\n",
    "activity_info.index = index\n",
    "activity_info['label_encoded'] = list(range(len(activity_info)))"
   ]
  },
  {
   "cell_type": "code",
   "execution_count": 5,
   "metadata": {
    "ExecuteTime": {
     "end_time": "2022-03-10T05:13:47.308617Z",
     "start_time": "2022-03-10T05:13:47.298070Z"
    }
   },
   "outputs": [],
   "source": [
    "activity_info.to_csv('mobiact_preprocessed/activity_info.csv')\n",
    "person_info.to_csv('mobiact_preprocessed/person_info.csv')"
   ]
  },
  {
   "cell_type": "code",
   "execution_count": 6,
   "metadata": {
    "ExecuteTime": {
     "end_time": "2022-03-10T09:11:14.043895Z",
     "start_time": "2022-03-10T09:11:14.037330Z"
    }
   },
   "outputs": [
    {
     "name": "stdout",
     "output_type": "stream",
     "text": [
      "['CHU', 'FOL', 'CSI', 'JOG', 'CSO', 'SBE', 'WAL', 'SBW', 'SLW', 'SIT', 'SCH', 'FKL', 'SRH', 'STD', 'BSC', 'JUM', 'SDL', 'SLH', 'STN', 'STU']\n"
     ]
    }
   ],
   "source": [
    "data_dir = 'MobiAct_Dataset_v2.0/Annotated Data/'\n",
    "act_list = [x for x in os.listdir(data_dir) if not x.startswith('.')]\n",
    "print(act_list)"
   ]
  },
  {
   "cell_type": "code",
   "execution_count": 12,
   "metadata": {},
   "outputs": [],
   "source": [
    "save_dir = 'mobiact_preprocessed/'\n",
    "train_dir, valid_dir, test_dir = 'train/', 'valid/', 'test/'\n",
    "\n",
    "for dir_name in [train_dir, valid_dir, test_dir]:\n",
    "    if not os.path.exists(save_dir + dir_name):\n",
    "        os.makedirs(save_dir + dir_name)\n",
    "for act in act_list:\n",
    "    file_dir = data_dir + act + '/'\n",
    "    file_list = os.listdir(file_dir)\n",
    "    for file in file_list:\n",
    "        person_num = int(file.split('_')[1])\n",
    "        if person_num in [28, 34, 57]:\n",
    "            continue\n",
    "        temp = pd.read_csv(data_dir + act + '/' + file)\n",
    "        temp['age'] = person_info.iloc[person_num - 1]['age']\n",
    "        temp['height'] = person_info.iloc[person_num - 1]['height']\n",
    "        temp['weight'] = person_info.iloc[person_num - 1]['weight']\n",
    "        temp['gender'] = person_info.iloc[person_num - 1]['gender']\n",
    "        temp['person_id'] = person_num\n",
    "        if person_num <= 50:\n",
    "            temp.to_csv(save_dir + train_dir + file)\n",
    "        elif person_num > 50 and person_num < 57:\n",
    "            temp.to_csv(save_dir + valid_dir + file)\n",
    "        elif person_num >= 57:\n",
    "            temp.to_csv(save_dir + test_dir + file)"
   ]
  },
  {
   "cell_type": "code",
   "execution_count": 10,
   "metadata": {},
   "outputs": [
    {
     "data": {
      "text/html": [
       "<div>\n",
       "<style scoped>\n",
       "    .dataframe tbody tr th:only-of-type {\n",
       "        vertical-align: middle;\n",
       "    }\n",
       "\n",
       "    .dataframe tbody tr th {\n",
       "        vertical-align: top;\n",
       "    }\n",
       "\n",
       "    .dataframe thead th {\n",
       "        text-align: right;\n",
       "    }\n",
       "</style>\n",
       "<table border=\"1\" class=\"dataframe\">\n",
       "  <thead>\n",
       "    <tr style=\"text-align: right;\">\n",
       "      <th></th>\n",
       "      <th>person_id</th>\n",
       "      <th>acc_x</th>\n",
       "      <th>acc_y</th>\n",
       "      <th>acc_z</th>\n",
       "      <th>gyro_x</th>\n",
       "      <th>gyro_y</th>\n",
       "      <th>gyro_z</th>\n",
       "      <th>height</th>\n",
       "      <th>weight</th>\n",
       "      <th>gender</th>\n",
       "      <th>age</th>\n",
       "    </tr>\n",
       "  </thead>\n",
       "  <tbody>\n",
       "    <tr>\n",
       "      <th>0</th>\n",
       "      <td>36</td>\n",
       "      <td>-0.328140</td>\n",
       "      <td>9.830861</td>\n",
       "      <td>-0.816020</td>\n",
       "      <td>0.017715</td>\n",
       "      <td>-0.046426</td>\n",
       "      <td>-0.010079</td>\n",
       "      <td>164</td>\n",
       "      <td>62</td>\n",
       "      <td>F</td>\n",
       "      <td>22</td>\n",
       "    </tr>\n",
       "    <tr>\n",
       "      <th>1</th>\n",
       "      <td>36</td>\n",
       "      <td>-0.323301</td>\n",
       "      <td>9.821182</td>\n",
       "      <td>-0.830538</td>\n",
       "      <td>0.020159</td>\n",
       "      <td>-0.031765</td>\n",
       "      <td>-0.005192</td>\n",
       "      <td>164</td>\n",
       "      <td>62</td>\n",
       "      <td>F</td>\n",
       "      <td>22</td>\n",
       "    </tr>\n",
       "    <tr>\n",
       "      <th>2</th>\n",
       "      <td>36</td>\n",
       "      <td>-0.318456</td>\n",
       "      <td>9.811493</td>\n",
       "      <td>-0.845071</td>\n",
       "      <td>0.014355</td>\n",
       "      <td>-0.035736</td>\n",
       "      <td>-0.006414</td>\n",
       "      <td>164</td>\n",
       "      <td>62</td>\n",
       "      <td>F</td>\n",
       "      <td>22</td>\n",
       "    </tr>\n",
       "    <tr>\n",
       "      <th>3</th>\n",
       "      <td>36</td>\n",
       "      <td>-0.323218</td>\n",
       "      <td>9.818622</td>\n",
       "      <td>-0.854730</td>\n",
       "      <td>0.013439</td>\n",
       "      <td>-0.041233</td>\n",
       "      <td>-0.008858</td>\n",
       "      <td>164</td>\n",
       "      <td>62</td>\n",
       "      <td>F</td>\n",
       "      <td>22</td>\n",
       "    </tr>\n",
       "    <tr>\n",
       "      <th>4</th>\n",
       "      <td>36</td>\n",
       "      <td>-0.337355</td>\n",
       "      <td>9.842184</td>\n",
       "      <td>-0.859443</td>\n",
       "      <td>0.003360</td>\n",
       "      <td>-0.029627</td>\n",
       "      <td>-0.013439</td>\n",
       "      <td>164</td>\n",
       "      <td>62</td>\n",
       "      <td>F</td>\n",
       "      <td>22</td>\n",
       "    </tr>\n",
       "    <tr>\n",
       "      <th>...</th>\n",
       "      <td>...</td>\n",
       "      <td>...</td>\n",
       "      <td>...</td>\n",
       "      <td>...</td>\n",
       "      <td>...</td>\n",
       "      <td>...</td>\n",
       "      <td>...</td>\n",
       "      <td>...</td>\n",
       "      <td>...</td>\n",
       "      <td>...</td>\n",
       "      <td>...</td>\n",
       "    </tr>\n",
       "    <tr>\n",
       "      <th>1926</th>\n",
       "      <td>36</td>\n",
       "      <td>-0.096924</td>\n",
       "      <td>9.860768</td>\n",
       "      <td>-0.316613</td>\n",
       "      <td>-0.041539</td>\n",
       "      <td>-0.005192</td>\n",
       "      <td>0.025351</td>\n",
       "      <td>164</td>\n",
       "      <td>62</td>\n",
       "      <td>F</td>\n",
       "      <td>22</td>\n",
       "    </tr>\n",
       "    <tr>\n",
       "      <th>1927</th>\n",
       "      <td>36</td>\n",
       "      <td>-0.114922</td>\n",
       "      <td>9.883083</td>\n",
       "      <td>-0.325067</td>\n",
       "      <td>-0.026878</td>\n",
       "      <td>-0.004276</td>\n",
       "      <td>0.020769</td>\n",
       "      <td>164</td>\n",
       "      <td>62</td>\n",
       "      <td>F</td>\n",
       "      <td>22</td>\n",
       "    </tr>\n",
       "    <tr>\n",
       "      <th>1928</th>\n",
       "      <td>36</td>\n",
       "      <td>-0.114922</td>\n",
       "      <td>9.880720</td>\n",
       "      <td>-0.317978</td>\n",
       "      <td>-0.041233</td>\n",
       "      <td>-0.013744</td>\n",
       "      <td>0.021380</td>\n",
       "      <td>164</td>\n",
       "      <td>62</td>\n",
       "      <td>F</td>\n",
       "      <td>22</td>\n",
       "    </tr>\n",
       "    <tr>\n",
       "      <th>1929</th>\n",
       "      <td>36</td>\n",
       "      <td>-0.114922</td>\n",
       "      <td>9.878284</td>\n",
       "      <td>-0.310669</td>\n",
       "      <td>-0.037874</td>\n",
       "      <td>-0.015577</td>\n",
       "      <td>0.024740</td>\n",
       "      <td>164</td>\n",
       "      <td>62</td>\n",
       "      <td>F</td>\n",
       "      <td>22</td>\n",
       "    </tr>\n",
       "    <tr>\n",
       "      <th>1930</th>\n",
       "      <td>36</td>\n",
       "      <td>-0.114922</td>\n",
       "      <td>9.875978</td>\n",
       "      <td>-0.303750</td>\n",
       "      <td>-0.034819</td>\n",
       "      <td>-0.014661</td>\n",
       "      <td>0.023518</td>\n",
       "      <td>164</td>\n",
       "      <td>62</td>\n",
       "      <td>F</td>\n",
       "      <td>22</td>\n",
       "    </tr>\n",
       "  </tbody>\n",
       "</table>\n",
       "<p>1931 rows × 11 columns</p>\n",
       "</div>"
      ],
      "text/plain": [
       "      person_id     acc_x     acc_y     acc_z    gyro_x    gyro_y    gyro_z  \\\n",
       "0            36 -0.328140  9.830861 -0.816020  0.017715 -0.046426 -0.010079   \n",
       "1            36 -0.323301  9.821182 -0.830538  0.020159 -0.031765 -0.005192   \n",
       "2            36 -0.318456  9.811493 -0.845071  0.014355 -0.035736 -0.006414   \n",
       "3            36 -0.323218  9.818622 -0.854730  0.013439 -0.041233 -0.008858   \n",
       "4            36 -0.337355  9.842184 -0.859443  0.003360 -0.029627 -0.013439   \n",
       "...         ...       ...       ...       ...       ...       ...       ...   \n",
       "1926         36 -0.096924  9.860768 -0.316613 -0.041539 -0.005192  0.025351   \n",
       "1927         36 -0.114922  9.883083 -0.325067 -0.026878 -0.004276  0.020769   \n",
       "1928         36 -0.114922  9.880720 -0.317978 -0.041233 -0.013744  0.021380   \n",
       "1929         36 -0.114922  9.878284 -0.310669 -0.037874 -0.015577  0.024740   \n",
       "1930         36 -0.114922  9.875978 -0.303750 -0.034819 -0.014661  0.023518   \n",
       "\n",
       "     height weight gender age  \n",
       "0       164     62      F  22  \n",
       "1       164     62      F  22  \n",
       "2       164     62      F  22  \n",
       "3       164     62      F  22  \n",
       "4       164     62      F  22  \n",
       "...     ...    ...    ...  ..  \n",
       "1926    164     62      F  22  \n",
       "1927    164     62      F  22  \n",
       "1928    164     62      F  22  \n",
       "1929    164     62      F  22  \n",
       "1930    164     62      F  22  \n",
       "\n",
       "[1931 rows x 11 columns]"
      ]
     },
     "execution_count": 10,
     "metadata": {},
     "output_type": "execute_result"
    }
   ],
   "source": [
    "columns = ['person_id', 'acc_x', 'acc_y', 'acc_z', 'gyro_x', 'gyro_y', 'gyro_z', 'height', 'weight', 'gender', 'age']\n",
    "temp[columns]"
   ]
  },
  {
   "cell_type": "code",
   "execution_count": null,
   "metadata": {},
   "outputs": [],
   "source": [
    "falls = ['FOL', 'FKL', 'BSC', 'SDL']\n",
    "max_length = 0\n",
    "\n",
    "for dir_name in [train_dir, valid_dir, test_dir]:\n",
    "    file_dir = save_dir + dir_name\n",
    "    file_list = os.listdir(file_dir)\n",
    "    for file in file_list:\n",
    "        if file.split('_')[0] in falls:\n",
    "            temp = pd.read_csv(file_dir + file)\n",
    "            if len(temp) > max_length:\n",
    "                max_length = len(temp)\n",
    "print(max_length)"
   ]
  },
  {
   "cell_type": "code",
   "execution_count": null,
   "metadata": {},
   "outputs": [],
   "source": [
    "onehotenc = sklearn.preprocessing.OneHotEncoder()\n",
    "orinalenc = sklearn.preprocessing.OrdinalEncoder()\n",
    "\n",
    "orinalenc.fit_transform([['M'], ['F']])"
   ]
  },
  {
   "cell_type": "code",
   "execution_count": null,
   "metadata": {},
   "outputs": [],
   "source": [
    "set(temp['gender'])"
   ]
  },
  {
   "cell_type": "code",
   "execution_count": null,
   "metadata": {},
   "outputs": [],
   "source": [
    "onehotenc.fit([['M'], ['F']])\n",
    "onehotenc.transform([['M'], ['F']]).toarray()"
   ]
  },
  {
   "cell_type": "code",
   "execution_count": null,
   "metadata": {},
   "outputs": [],
   "source": [
    "columns = ['person_id', 'acc_x', 'acc_y', 'acc_z', 'gyro_x', 'gyro_y', 'gyro_z', 'height', 'weight', 'gender', 'age']\n",
    "label_encoder = sklearn.preprocessing.LabelEncoder()\n",
    "ordinal_encoder = sklearn.preprocessing.OrdinalEncoder()\n",
    "ordinal_encoder.fit([['M'], ['F']])\n",
    "\n",
    "save_name = ['train.pt', 'valid.pt', 'test.pt']\n",
    "for idx, dir_name in enumerate([train_dir, valid_dir, test_dir]):\n",
    "    X, y = [], []\n",
    "    file_dir = save_dir + dir_name\n",
    "    file_list = os.listdir(file_dir)\n",
    "    for file in file_list:\n",
    "        label = file.split('_')[0]\n",
    "        temp = pd.read_csv(file_dir + file)\n",
    "        if len(temp) > max_length:\n",
    "            temp = temp.iloc[:max_length]\n",
    "        temp['gender'] = ordinal_encoder.transform(temp['gender'].values.reshape(-1, 1))\n",
    "        val = torch.tensor(temp[columns].values)\n",
    "        X.append(val)\n",
    "        y.append(label)\n",
    "    X = pad_sequence(X)\n",
    "    X = torch.permute(X, (1, 2, 0)).contiguous()\n",
    "    if idx == 0:\n",
    "        y = label_encoder.fit_transform(y)\n",
    "    else:\n",
    "        y = label_encoder.transform(y)\n",
    "    dataset = TensorDataset(X, torch.tensor(y))\n",
    "    torch.save(dataset, save_dir + save_name[idx])"
   ]
  },
  {
   "cell_type": "code",
   "execution_count": null,
   "metadata": {},
   "outputs": [],
   "source": [
    "ordinal_encoder.categories_"
   ]
  },
  {
   "cell_type": "code",
   "execution_count": null,
   "metadata": {},
   "outputs": [],
   "source": [
    "train = torch.load(save_dir + 'train.pt')\n",
    "train.tensors[0][0][-2]"
   ]
  },
  {
   "cell_type": "code",
   "execution_count": null,
   "metadata": {},
   "outputs": [],
   "source": []
  }
 ],
 "metadata": {
  "kernelspec": {
   "display_name": "Python 3",
   "language": "python",
   "name": "python3"
  },
  "language_info": {
   "codemirror_mode": {
    "name": "ipython",
    "version": 3
   },
   "file_extension": ".py",
   "mimetype": "text/x-python",
   "name": "python",
   "nbconvert_exporter": "python",
   "pygments_lexer": "ipython3",
   "version": "3.7.6"
  },
  "toc": {
   "base_numbering": 1,
   "nav_menu": {},
   "number_sections": false,
   "sideBar": true,
   "skip_h1_title": false,
   "title_cell": "Table of Contents",
   "title_sidebar": "Contents",
   "toc_cell": false,
   "toc_position": {},
   "toc_section_display": true,
   "toc_window_display": false
  },
  "varInspector": {
   "cols": {
    "lenName": 16,
    "lenType": 16,
    "lenVar": 40
   },
   "kernels_config": {
    "python": {
     "delete_cmd_postfix": "",
     "delete_cmd_prefix": "del ",
     "library": "var_list.py",
     "varRefreshCmd": "print(var_dic_list())"
    },
    "r": {
     "delete_cmd_postfix": ") ",
     "delete_cmd_prefix": "rm(",
     "library": "var_list.r",
     "varRefreshCmd": "cat(var_dic_list()) "
    }
   },
   "types_to_exclude": [
    "module",
    "function",
    "builtin_function_or_method",
    "instance",
    "_Feature"
   ],
   "window_display": false
  }
 },
 "nbformat": 4,
 "nbformat_minor": 4
}
