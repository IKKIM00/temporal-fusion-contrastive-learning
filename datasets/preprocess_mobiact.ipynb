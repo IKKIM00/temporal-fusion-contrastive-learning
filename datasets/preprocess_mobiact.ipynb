{
 "cells": [
  {
   "cell_type": "code",
   "execution_count": 1,
   "metadata": {
    "ExecuteTime": {
     "end_time": "2022-03-10T05:07:50.234085Z",
     "start_time": "2022-03-10T05:07:49.900245Z"
    }
   },
   "outputs": [],
   "source": [
    "import pandas as pd\n",
    "import os\n",
    "from tqdm.notebook import tqdm"
   ]
  },
  {
   "cell_type": "code",
   "execution_count": 3,
   "metadata": {
    "ExecuteTime": {
     "end_time": "2022-03-10T10:43:38.435082Z",
     "start_time": "2022-03-10T10:43:38.428605Z"
    }
   },
   "outputs": [],
   "source": [
    "file = open('MobiAct_Dataset_v2.0/Readme.txt', 'r', encoding='latin1')\n",
    "strings = file.readlines()\n",
    "file.close()"
   ]
  },
  {
   "cell_type": "code",
   "execution_count": 4,
   "metadata": {
    "ExecuteTime": {
     "end_time": "2022-03-10T05:10:24.651578Z",
     "start_time": "2022-03-10T05:10:24.641792Z"
    }
   },
   "outputs": [],
   "source": [
    "person_list, activity_list = [], []\n",
    "for s in strings:\n",
    "    if '|' in s:\n",
    "        temp = s.split('|')\n",
    "        temp = [x.strip() for x in temp]\n",
    "        if 'sub' in s and len(temp) == 9:\n",
    "            person_list.append(temp[3:-1])\n",
    "        if len(temp) == 8:\n",
    "            activity_list.append(temp[1:-1])"
   ]
  },
  {
   "cell_type": "code",
   "execution_count": 5,
   "metadata": {
    "ExecuteTime": {
     "end_time": "2022-03-10T05:12:47.511133Z",
     "start_time": "2022-03-10T05:12:47.481706Z"
    }
   },
   "outputs": [],
   "source": [
    "falls = ['FOL', 'FKL', 'BSC', 'SDL']\n",
    "\n",
    "columns = ['name', 'age', 'height', 'weight', 'gender']\n",
    "person_info = pd.DataFrame(person_list, columns=columns)\n",
    "\n",
    "activity_info = pd.DataFrame(activity_list)\n",
    "activity_info.columns = activity_info.iloc[0]\n",
    "activity_info = activity_info.drop([0, 13])\n",
    "activity_info = activity_info.reset_index(drop=True)\n",
    "index = activity_info['No.']\n",
    "activity_info = activity_info.drop(['No.'], axis=1)\n",
    "activity_info.index = index\n",
    "activity_info['label_encoded'] = list(range(len(activity_info)))"
   ]
  },
  {
   "cell_type": "code",
   "execution_count": 9,
   "metadata": {
    "ExecuteTime": {
     "end_time": "2022-03-10T05:13:47.308617Z",
     "start_time": "2022-03-10T05:13:47.298070Z"
    }
   },
   "outputs": [],
   "source": [
    "activity_info.to_csv('mobiact_preprocessed/activity_info.csv')\n",
    "person_info.to_csv('mobiact_preprocessed/person_info.csv')"
   ]
  },
  {
   "cell_type": "code",
   "execution_count": 6,
   "metadata": {
    "ExecuteTime": {
     "end_time": "2022-03-10T09:11:14.043895Z",
     "start_time": "2022-03-10T09:11:14.037330Z"
    }
   },
   "outputs": [
    {
     "name": "stdout",
     "output_type": "stream",
     "text": [
      "['CHU', 'FOL', 'CSI', 'JOG', 'CSO', 'SBE', 'WAL', 'SBW', 'SLW', 'SIT', 'SCH', 'FKL', 'SRH', 'STD', 'BSC', 'JUM', 'SDL', 'SLH', 'STN', 'STU']\n"
     ]
    }
   ],
   "source": [
    "data_dir = 'MobiAct_Dataset_v2.0/Annotated Data/'\n",
    "act_list = os.listdir(data_dir)\n",
    "print(act_list)"
   ]
  },
  {
   "cell_type": "code",
   "execution_count": 8,
   "metadata": {
    "ExecuteTime": {
     "end_time": "2022-03-10T11:00:13.257033Z",
     "start_time": "2022-03-10T11:00:13.089441Z"
    }
   },
   "outputs": [],
   "source": [
    "import shutil\n",
    "\n",
    "save_dir = 'mobiact_preprocessed/'\n",
    "\n",
    "train_dir, valid_dir, test_dir = 'train/', 'valid/', 'test/'\n",
    "\n",
    "for dir_name in [train_dir, valid_dir, test_dir]:\n",
    "    if not os.path.exists(save_dir + dir_name):\n",
    "        os.makedirs(save_dir + dir_name)\n",
    "for act in act_list:\n",
    "    file_dir = data_dir + act + '/'\n",
    "    file_list = os.listdir(file_dir)\n",
    "    for file in file_list:\n",
    "        person_num = int(file.split('_')[1])\n",
    "        if person_num <= 50:\n",
    "            shutil.move(file_dir + file, save_dir + train_dir)\n",
    "        elif person_num > 50 and person_num < 57:\n",
    "            shutil.move(file_dir + file, save_dir + valid_dir)\n",
    "        elif person_num >= 57:\n",
    "            shutil.move(file_dir + file, save_dir + test_dir)"
   ]
  },
  {
   "cell_type": "code",
   "execution_count": null,
   "metadata": {},
   "outputs": [],
   "source": []
  }
 ],
 "metadata": {
  "kernelspec": {
   "display_name": "Python 3",
   "language": "python",
   "name": "python3"
  },
  "language_info": {
   "codemirror_mode": {
    "name": "ipython",
    "version": 3
   },
   "file_extension": ".py",
   "mimetype": "text/x-python",
   "name": "python",
   "nbconvert_exporter": "python",
   "pygments_lexer": "ipython3",
   "version": "3.7.6"
  },
  "toc": {
   "base_numbering": 1,
   "nav_menu": {},
   "number_sections": false,
   "sideBar": true,
   "skip_h1_title": false,
   "title_cell": "Table of Contents",
   "title_sidebar": "Contents",
   "toc_cell": false,
   "toc_position": {},
   "toc_section_display": true,
   "toc_window_display": false
  },
  "varInspector": {
   "cols": {
    "lenName": 16,
    "lenType": 16,
    "lenVar": 40
   },
   "kernels_config": {
    "python": {
     "delete_cmd_postfix": "",
     "delete_cmd_prefix": "del ",
     "library": "var_list.py",
     "varRefreshCmd": "print(var_dic_list())"
    },
    "r": {
     "delete_cmd_postfix": ") ",
     "delete_cmd_prefix": "rm(",
     "library": "var_list.r",
     "varRefreshCmd": "cat(var_dic_list()) "
    }
   },
   "types_to_exclude": [
    "module",
    "function",
    "builtin_function_or_method",
    "instance",
    "_Feature"
   ],
   "window_display": false
  }
 },
 "nbformat": 4,
 "nbformat_minor": 4
}
