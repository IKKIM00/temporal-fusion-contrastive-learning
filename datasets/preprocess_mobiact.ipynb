{
 "cells": [
  {
   "cell_type": "code",
   "execution_count": 64,
   "metadata": {
    "ExecuteTime": {
     "end_time": "2022-03-10T05:07:50.234085Z",
     "start_time": "2022-03-10T05:07:49.900245Z"
    }
   },
   "outputs": [],
   "source": [
    "import pandas as pd\n",
    "import numpy as np\n",
    "import os\n",
    "import torch\n",
    "import sklearn.preprocessing\n",
    "\n",
    "from torch.utils.data import TensorDataset\n",
    "from torch.nn.utils.rnn import pad_sequence\n",
    "from tqdm.notebook import tqdm"
   ]
  },
  {
   "cell_type": "code",
   "execution_count": 3,
   "metadata": {
    "ExecuteTime": {
     "end_time": "2022-03-10T10:43:38.435082Z",
     "start_time": "2022-03-10T10:43:38.428605Z"
    }
   },
   "outputs": [],
   "source": [
    "file = open('MobiAct_Dataset_v2.0/Readme.txt', 'r', encoding='latin1')\n",
    "strings = file.readlines()\n",
    "file.close()"
   ]
  },
  {
   "cell_type": "code",
   "execution_count": 4,
   "metadata": {
    "ExecuteTime": {
     "end_time": "2022-03-10T05:10:24.651578Z",
     "start_time": "2022-03-10T05:10:24.641792Z"
    }
   },
   "outputs": [],
   "source": [
    "person_list, activity_list = [], []\n",
    "for s in strings:\n",
    "    if '|' in s:\n",
    "        temp = s.split('|')\n",
    "        temp = [x.strip() for x in temp]\n",
    "        if 'sub' in s and len(temp) == 9:\n",
    "            person_list.append(temp[3:-1])\n",
    "        if len(temp) == 8:\n",
    "            activity_list.append(temp[1:-1])"
   ]
  },
  {
   "cell_type": "code",
   "execution_count": 5,
   "metadata": {
    "ExecuteTime": {
     "end_time": "2022-03-10T05:12:47.511133Z",
     "start_time": "2022-03-10T05:12:47.481706Z"
    }
   },
   "outputs": [],
   "source": [
    "falls = ['FOL', 'FKL', 'BSC', 'SDL']\n",
    "\n",
    "columns = ['name', 'age', 'height', 'weight', 'gender']\n",
    "person_info = pd.DataFrame(person_list, columns=columns)\n",
    "\n",
    "activity_info = pd.DataFrame(activity_list)\n",
    "activity_info.columns = activity_info.iloc[0]\n",
    "activity_info = activity_info.drop([0, 13])\n",
    "activity_info = activity_info.reset_index(drop=True)\n",
    "index = activity_info['No.']\n",
    "activity_info = activity_info.drop(['No.'], axis=1)\n",
    "activity_info.index = index\n",
    "activity_info['label_encoded'] = list(range(len(activity_info)))"
   ]
  },
  {
   "cell_type": "code",
   "execution_count": 9,
   "metadata": {
    "ExecuteTime": {
     "end_time": "2022-03-10T05:13:47.308617Z",
     "start_time": "2022-03-10T05:13:47.298070Z"
    }
   },
   "outputs": [],
   "source": [
    "activity_info.to_csv('mobiact_preprocessed/activity_info.csv')\n",
    "person_info.to_csv('mobiact_preprocessed/person_info.csv')"
   ]
  },
  {
   "cell_type": "code",
   "execution_count": 6,
   "metadata": {
    "ExecuteTime": {
     "end_time": "2022-03-10T09:11:14.043895Z",
     "start_time": "2022-03-10T09:11:14.037330Z"
    }
   },
   "outputs": [
    {
     "name": "stdout",
     "output_type": "stream",
     "text": [
      "['CHU', 'FOL', 'CSI', 'JOG', 'CSO', 'SBE', 'WAL', 'SBW', 'SLW', 'SIT', 'SCH', 'FKL', 'SRH', 'STD', 'BSC', 'JUM', 'SDL', 'SLH', 'STN', 'STU']\n"
     ]
    }
   ],
   "source": [
    "data_dir = 'MobiAct_Dataset_v2.0/Annotated Data/'\n",
    "act_list = os.listdir(data_dir)\n",
    "print(act_list)"
   ]
  },
  {
   "cell_type": "code",
   "execution_count": 8,
   "metadata": {
    "ExecuteTime": {
     "end_time": "2022-03-10T11:00:13.257033Z",
     "start_time": "2022-03-10T11:00:13.089441Z"
    }
   },
   "outputs": [],
   "source": [
    "import shutil\n",
    "\n",
    "save_dir = 'mobiact_preprocessed/'\n",
    "\n",
    "train_dir, valid_dir, test_dir = 'train/', 'valid/', 'test/'\n",
    "\n",
    "for dir_name in [train_dir, valid_dir, test_dir]:\n",
    "    if not os.path.exists(save_dir + dir_name):\n",
    "        os.makedirs(save_dir + dir_name)\n",
    "for act in act_list:\n",
    "    file_dir = data_dir + act + '/'\n",
    "    file_list = os.listdir(file_dir)\n",
    "    for file in file_list:\n",
    "        person_num = int(file.split('_')[1])\n",
    "        if person_num <= 50:\n",
    "            shutil.move(file_dir + file, save_dir + train_dir)\n",
    "        elif person_num > 50 and person_num < 57:\n",
    "            shutil.move(file_dir + file, save_dir + valid_dir)\n",
    "        elif person_num >= 57:\n",
    "            shutil.move(file_dir + file, save_dir + test_dir)"
   ]
  },
  {
   "cell_type": "code",
   "execution_count": 9,
   "metadata": {},
   "outputs": [
    {
     "name": "stdout",
     "output_type": "stream",
     "text": [
      "2995\n"
     ]
    }
   ],
   "source": [
    "falls = ['FOL', 'FKL', 'BSC', 'SDL']\n",
    "max_length = 0\n",
    "\n",
    "for dir_name in [train_dir, valid_dir, test_dir]:\n",
    "    file_dir = save_dir + dir_name\n",
    "    file_list = os.listdir(file_dir)\n",
    "    for file in file_list:\n",
    "        if file.split('_')[0] in falls:\n",
    "            temp = pd.read_csv(file_dir + file)\n",
    "            if len(temp) > max_length:\n",
    "                max_length = len(temp)\n",
    "print(max_length)"
   ]
  },
  {
   "cell_type": "code",
   "execution_count": 63,
   "metadata": {},
   "outputs": [
    {
     "data": {
      "text/html": [
       "<div>\n",
       "<style scoped>\n",
       "    .dataframe tbody tr th:only-of-type {\n",
       "        vertical-align: middle;\n",
       "    }\n",
       "\n",
       "    .dataframe tbody tr th {\n",
       "        vertical-align: top;\n",
       "    }\n",
       "\n",
       "    .dataframe thead th {\n",
       "        text-align: right;\n",
       "    }\n",
       "</style>\n",
       "<table border=\"1\" class=\"dataframe\">\n",
       "  <thead>\n",
       "    <tr style=\"text-align: right;\">\n",
       "      <th></th>\n",
       "      <th>Label</th>\n",
       "      <th>Activity</th>\n",
       "      <th>Trials</th>\n",
       "      <th>Duration</th>\n",
       "      <th>Description</th>\n",
       "      <th>label_encoded</th>\n",
       "    </tr>\n",
       "    <tr>\n",
       "      <th>No.</th>\n",
       "      <th></th>\n",
       "      <th></th>\n",
       "      <th></th>\n",
       "      <th></th>\n",
       "      <th></th>\n",
       "      <th></th>\n",
       "    </tr>\n",
       "  </thead>\n",
       "  <tbody>\n",
       "    <tr>\n",
       "      <th>1</th>\n",
       "      <td>STD</td>\n",
       "      <td>Standing</td>\n",
       "      <td>1</td>\n",
       "      <td>5min</td>\n",
       "      <td>Standing with subtle movements</td>\n",
       "      <td>0</td>\n",
       "    </tr>\n",
       "    <tr>\n",
       "      <th>2</th>\n",
       "      <td>WAL</td>\n",
       "      <td>Walking</td>\n",
       "      <td>1</td>\n",
       "      <td>5min</td>\n",
       "      <td>Normal walking</td>\n",
       "      <td>1</td>\n",
       "    </tr>\n",
       "    <tr>\n",
       "      <th>3</th>\n",
       "      <td>JOG</td>\n",
       "      <td>Jogging</td>\n",
       "      <td>3</td>\n",
       "      <td>30s</td>\n",
       "      <td>Jogging</td>\n",
       "      <td>2</td>\n",
       "    </tr>\n",
       "    <tr>\n",
       "      <th>4</th>\n",
       "      <td>JUM</td>\n",
       "      <td>Jumping</td>\n",
       "      <td>3</td>\n",
       "      <td>30s</td>\n",
       "      <td>Continuous jumping</td>\n",
       "      <td>3</td>\n",
       "    </tr>\n",
       "    <tr>\n",
       "      <th>5</th>\n",
       "      <td>STU</td>\n",
       "      <td>Stairs up</td>\n",
       "      <td>6</td>\n",
       "      <td>10s</td>\n",
       "      <td>Stairs up (10 stairs)</td>\n",
       "      <td>4</td>\n",
       "    </tr>\n",
       "    <tr>\n",
       "      <th>6</th>\n",
       "      <td>STN</td>\n",
       "      <td>Stairs down</td>\n",
       "      <td>6</td>\n",
       "      <td>10s</td>\n",
       "      <td>Stairs down (10 stairs)</td>\n",
       "      <td>5</td>\n",
       "    </tr>\n",
       "    <tr>\n",
       "      <th>7</th>\n",
       "      <td>SCH</td>\n",
       "      <td>Stand to sit(sit on chair)</td>\n",
       "      <td>6</td>\n",
       "      <td>6s</td>\n",
       "      <td>Transition from standing to sitting</td>\n",
       "      <td>6</td>\n",
       "    </tr>\n",
       "    <tr>\n",
       "      <th>8</th>\n",
       "      <td>SIT</td>\n",
       "      <td>Sitting on chair</td>\n",
       "      <td>1</td>\n",
       "      <td>1min</td>\n",
       "      <td>Sitting on a chair with subtle movements</td>\n",
       "      <td>7</td>\n",
       "    </tr>\n",
       "    <tr>\n",
       "      <th>9</th>\n",
       "      <td>CHU</td>\n",
       "      <td>Sit to stand(chair up)</td>\n",
       "      <td>6</td>\n",
       "      <td>6s</td>\n",
       "      <td>Transition from sitting to standing</td>\n",
       "      <td>8</td>\n",
       "    </tr>\n",
       "    <tr>\n",
       "      <th>10</th>\n",
       "      <td>CSI</td>\n",
       "      <td>Car-step in</td>\n",
       "      <td>6</td>\n",
       "      <td>6s</td>\n",
       "      <td>Step in a car</td>\n",
       "      <td>9</td>\n",
       "    </tr>\n",
       "    <tr>\n",
       "      <th>11</th>\n",
       "      <td>CSO</td>\n",
       "      <td>Car-step out</td>\n",
       "      <td>6</td>\n",
       "      <td>6s</td>\n",
       "      <td>Step out a car</td>\n",
       "      <td>10</td>\n",
       "    </tr>\n",
       "    <tr>\n",
       "      <th>12</th>\n",
       "      <td>LYI</td>\n",
       "      <td>Lying</td>\n",
       "      <td>12</td>\n",
       "      <td>-</td>\n",
       "      <td>Activity taken from the lying period after a fall</td>\n",
       "      <td>11</td>\n",
       "    </tr>\n",
       "    <tr>\n",
       "      <th>10</th>\n",
       "      <td>FOL</td>\n",
       "      <td>Forward-lying</td>\n",
       "      <td>3</td>\n",
       "      <td>10s</td>\n",
       "      <td>Fall Forward from standing, use of hands to da...</td>\n",
       "      <td>12</td>\n",
       "    </tr>\n",
       "    <tr>\n",
       "      <th>11</th>\n",
       "      <td>FKL</td>\n",
       "      <td>Front-knees-lying</td>\n",
       "      <td>3</td>\n",
       "      <td>10s</td>\n",
       "      <td>Fall forward from standing, first impact on knees</td>\n",
       "      <td>13</td>\n",
       "    </tr>\n",
       "    <tr>\n",
       "      <th>12</th>\n",
       "      <td>BSC</td>\n",
       "      <td>Back-sitting-chair</td>\n",
       "      <td>3</td>\n",
       "      <td>10s</td>\n",
       "      <td>Fall backward while trying to sit on a chair</td>\n",
       "      <td>14</td>\n",
       "    </tr>\n",
       "    <tr>\n",
       "      <th>13</th>\n",
       "      <td>SDL</td>\n",
       "      <td>Sideward-lying</td>\n",
       "      <td>3</td>\n",
       "      <td>10s</td>\n",
       "      <td>Fall sidewards from standing, bending legs</td>\n",
       "      <td>15</td>\n",
       "    </tr>\n",
       "  </tbody>\n",
       "</table>\n",
       "</div>"
      ],
      "text/plain": [
       "0   Label                    Activity Trials Duration  \\\n",
       "No.                                                     \n",
       "1     STD                    Standing      1     5min   \n",
       "2     WAL                     Walking      1     5min   \n",
       "3     JOG                     Jogging      3      30s   \n",
       "4     JUM                     Jumping      3      30s   \n",
       "5     STU                   Stairs up      6      10s   \n",
       "6     STN                 Stairs down      6      10s   \n",
       "7     SCH  Stand to sit(sit on chair)      6       6s   \n",
       "8     SIT            Sitting on chair      1     1min   \n",
       "9     CHU      Sit to stand(chair up)      6       6s   \n",
       "10    CSI                 Car-step in      6       6s   \n",
       "11    CSO                Car-step out      6       6s   \n",
       "12    LYI                       Lying     12        -   \n",
       "10    FOL               Forward-lying      3      10s   \n",
       "11    FKL           Front-knees-lying      3      10s   \n",
       "12    BSC          Back-sitting-chair      3      10s   \n",
       "13    SDL              Sideward-lying      3      10s   \n",
       "\n",
       "0                                          Description  label_encoded  \n",
       "No.                                                                    \n",
       "1                       Standing with subtle movements              0  \n",
       "2                                       Normal walking              1  \n",
       "3                                              Jogging              2  \n",
       "4                                   Continuous jumping              3  \n",
       "5                                Stairs up (10 stairs)              4  \n",
       "6                              Stairs down (10 stairs)              5  \n",
       "7                  Transition from standing to sitting              6  \n",
       "8             Sitting on a chair with subtle movements              7  \n",
       "9                  Transition from sitting to standing              8  \n",
       "10                                       Step in a car              9  \n",
       "11                                      Step out a car             10  \n",
       "12   Activity taken from the lying period after a fall             11  \n",
       "10   Fall Forward from standing, use of hands to da...             12  \n",
       "11   Fall forward from standing, first impact on knees             13  \n",
       "12        Fall backward while trying to sit on a chair             14  \n",
       "13          Fall sidewards from standing, bending legs             15  "
      ]
     },
     "execution_count": 63,
     "metadata": {},
     "output_type": "execute_result"
    }
   ],
   "source": [
    "activity_info"
   ]
  },
  {
   "cell_type": "code",
   "execution_count": 62,
   "metadata": {},
   "outputs": [
    {
     "ename": "ValueError",
     "evalue": "can only convert an array of size 1 to a Python scalar",
     "output_type": "error",
     "traceback": [
      "\u001b[0;31m---------------------------------------------------------------------------\u001b[0m",
      "\u001b[0;31mValueError\u001b[0m                                Traceback (most recent call last)",
      "\u001b[0;32m<ipython-input-62-69c095b0b3b0>\u001b[0m in \u001b[0;36m<module>\u001b[0;34m\u001b[0m\n\u001b[0;32m----> 1\u001b[0;31m \u001b[0mactivity_info\u001b[0m\u001b[0;34m[\u001b[0m\u001b[0mactivity_info\u001b[0m\u001b[0;34m[\u001b[0m\u001b[0;34m'Label'\u001b[0m\u001b[0;34m]\u001b[0m \u001b[0;34m==\u001b[0m \u001b[0;34m'SBW'\u001b[0m\u001b[0;34m]\u001b[0m\u001b[0;34m[\u001b[0m\u001b[0;34m'label_encoded'\u001b[0m\u001b[0;34m]\u001b[0m\u001b[0;34m.\u001b[0m\u001b[0mitem\u001b[0m\u001b[0;34m(\u001b[0m\u001b[0;34m)\u001b[0m\u001b[0;34m\u001b[0m\u001b[0;34m\u001b[0m\u001b[0m\n\u001b[0m",
      "\u001b[0;32m~/opt/anaconda3/lib/python3.7/site-packages/pandas/core/base.py\u001b[0m in \u001b[0;36mitem\u001b[0;34m(self)\u001b[0m\n\u001b[1;32m    329\u001b[0m         \u001b[0;32mif\u001b[0m \u001b[0mlen\u001b[0m\u001b[0;34m(\u001b[0m\u001b[0mself\u001b[0m\u001b[0;34m)\u001b[0m \u001b[0;34m==\u001b[0m \u001b[0;36m1\u001b[0m\u001b[0;34m:\u001b[0m\u001b[0;34m\u001b[0m\u001b[0;34m\u001b[0m\u001b[0m\n\u001b[1;32m    330\u001b[0m             \u001b[0;32mreturn\u001b[0m \u001b[0mnext\u001b[0m\u001b[0;34m(\u001b[0m\u001b[0miter\u001b[0m\u001b[0;34m(\u001b[0m\u001b[0mself\u001b[0m\u001b[0;34m)\u001b[0m\u001b[0;34m)\u001b[0m\u001b[0;34m\u001b[0m\u001b[0;34m\u001b[0m\u001b[0m\n\u001b[0;32m--> 331\u001b[0;31m         \u001b[0;32mraise\u001b[0m \u001b[0mValueError\u001b[0m\u001b[0;34m(\u001b[0m\u001b[0;34m\"can only convert an array of size 1 to a Python scalar\"\u001b[0m\u001b[0;34m)\u001b[0m\u001b[0;34m\u001b[0m\u001b[0;34m\u001b[0m\u001b[0m\n\u001b[0m\u001b[1;32m    332\u001b[0m \u001b[0;34m\u001b[0m\u001b[0m\n\u001b[1;32m    333\u001b[0m     \u001b[0;34m@\u001b[0m\u001b[0mproperty\u001b[0m\u001b[0;34m\u001b[0m\u001b[0;34m\u001b[0m\u001b[0m\n",
      "\u001b[0;31mValueError\u001b[0m: can only convert an array of size 1 to a Python scalar"
     ]
    }
   ],
   "source": []
  },
  {
   "cell_type": "code",
   "execution_count": 68,
   "metadata": {},
   "outputs": [
    {
     "data": {
      "text/plain": [
       "(torch.Size([2995, 2313, 6]), (2313,))"
      ]
     },
     "execution_count": 68,
     "metadata": {},
     "output_type": "execute_result"
    }
   ],
   "source": [
    "X.shape, y.shape"
   ]
  },
  {
   "cell_type": "code",
   "execution_count": 72,
   "metadata": {},
   "outputs": [],
   "source": [
    "columns = ['acc_x', 'acc_y', 'acc_z', 'gyro_x', 'gyro_y', 'gyro_z']\n",
    "label_encoder = sklearn.preprocessing.LabelEncoder()\n",
    "\n",
    "save_name = ['train.pt', 'valid.pt', 'test.pt']\n",
    "for idx, dir_name in enumerate([train_dir, valid_dir, test_dir]):\n",
    "    X, y = [], []\n",
    "    file_dir = save_dir + dir_name\n",
    "    file_list = os.listdir(file_dir)\n",
    "    for file in file_list:\n",
    "        label = file.split('_')[0]\n",
    "        temp = pd.read_csv(file_dir + file)\n",
    "        if len(temp) > max_length:\n",
    "            temp = temp.iloc[:max_length]\n",
    "        val = torch.tensor(temp[columns].values)\n",
    "        X.append(val)\n",
    "        y.append(label)\n",
    "    X = pad_sequence(X)\n",
    "    X = torch.permute(X, (1, 2, 0)).contiguous()\n",
    "    if idx == 0:\n",
    "        y = label_encoder.fit_transform(y)\n",
    "    else:\n",
    "        y = label_encoder.transform(y)\n",
    "    dataset = TensorDataset(X, torch.tensor(y))\n",
    "    torch.save(dataset, save_dir + save_name[idx])"
   ]
  },
  {
   "cell_type": "code",
   "execution_count": null,
   "metadata": {},
   "outputs": [],
   "source": []
  }
 ],
 "metadata": {
  "kernelspec": {
   "display_name": "Python 3",
   "language": "python",
   "name": "python3"
  },
  "language_info": {
   "codemirror_mode": {
    "name": "ipython",
    "version": 3
   },
   "file_extension": ".py",
   "mimetype": "text/x-python",
   "name": "python",
   "nbconvert_exporter": "python",
   "pygments_lexer": "ipython3",
   "version": "3.7.6"
  },
  "toc": {
   "base_numbering": 1,
   "nav_menu": {},
   "number_sections": false,
   "sideBar": true,
   "skip_h1_title": false,
   "title_cell": "Table of Contents",
   "title_sidebar": "Contents",
   "toc_cell": false,
   "toc_position": {},
   "toc_section_display": true,
   "toc_window_display": false
  },
  "varInspector": {
   "cols": {
    "lenName": 16,
    "lenType": 16,
    "lenVar": 40
   },
   "kernels_config": {
    "python": {
     "delete_cmd_postfix": "",
     "delete_cmd_prefix": "del ",
     "library": "var_list.py",
     "varRefreshCmd": "print(var_dic_list())"
    },
    "r": {
     "delete_cmd_postfix": ") ",
     "delete_cmd_prefix": "rm(",
     "library": "var_list.r",
     "varRefreshCmd": "cat(var_dic_list()) "
    }
   },
   "types_to_exclude": [
    "module",
    "function",
    "builtin_function_or_method",
    "instance",
    "_Feature"
   ],
   "window_display": false
  }
 },
 "nbformat": 4,
 "nbformat_minor": 4
}
